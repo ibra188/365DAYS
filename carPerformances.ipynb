{
 "cells": [
  {
   "cell_type": "markdown",
   "metadata": {},
   "source": [
    "Step 1: Understand the Project Goal\n",
    "You want to create a program that can analyze your car's performance and fuel efficiency using Python. This will help you track things like:\n",
    "\n",
    "Speed (how fast you're going)\n",
    "RPM (how fast the engine is rotating)\n",
    "Fuel Level (how much fuel is left)\n",
    "Engine Load (how hard the engine is working)\n",
    "You’ll collect this data using an OBD-II adapter and then analyze it."
   ]
  },
  {
   "cell_type": "code",
   "execution_count": null,
   "metadata": {},
   "outputs": [],
   "source": [
    "import obd\n",
    "from obd import  OBDStatus\n",
    "\n",
    "connection = obd.OBD() # auto-connects to USB or RF port\n",
    "\n",
    "# no connection is made\n",
    "OBDStatus.NOT_CONNECTED\n",
    "# successful communication with the ELM327 adapter\n",
    "OBDStatus.ELM_CONNECTED\n",
    "# successful communication with the ELM327 adapter,\n",
    "# OBD port connected to the car, ignition off\n",
    "# (not available with argument \"check_voltage=False\")\n",
    "OBDStatus.OBD_CONNECTED\n",
    "# successful communication with the ELM327 and the\n",
    "# vehicle; ignition on\n",
    "OBDStatus.CAR_CONNECTED\n",
    "\n",
    "name_cmd_intrested  = [\n",
    "    \"PIDS_A\", \"STATUS\", \"FREEZE_DTC\", \"FUEL_STATUS\", \"ENGINE_LOAD\", \"COOLANT_TEMP\",\n",
    "    \"SHORT_FUEL_TRIM_1\", \"LONG_FUEL_TRIM_1\", \"SHORT_FUEL_TRIM_2\", \"LONG_FUEL_TRIM_2\",\n",
    "    \"FUEL_PRESSURE\", \"INTAKE_PRESSURE\", \"RPM\", \"SPEED\", \"TIMING_ADVANCE\", \"INTAKE_TEMP\",\n",
    "    \"MAF\", \"THROTTLE_POS\", \"AIR_STATUS\", \"O2_SENSORS\", \"O2_B1S1\", \"O2_B1S2\",\n",
    "    \"O2_B1S3\", \"O2_B1S4\", \"O2_B2S1\", \"O2_B2S2\", \"O2_B2S3\", \"O2_B2S4\",\n",
    "    \"OBD_COMPLIANCE\", \"O2_SENSORS_ALT\", \"AUX_INPUT_STATUS\", \"RUN_TIME\", \"PIDS_B\",\n",
    "    \"DISTANCE_W_MIL\", \"FUEL_RAIL_PRESSURE_VAC\", \"FUEL_RAIL_PRESSURE_DIRECT\",\n",
    "    \"O2_S1_WR_VOLTAGE\", \"O2_S2_WR_VOLTAGE\", \"O2_S3_WR_VOLTAGE\", \"O2_S4_WR_VOLTAGE\",\n",
    "    \"O2_S5_WR_VOLTAGE\", \"O2_S6_WR_VOLTAGE\", \"O2_S7_WR_VOLTAGE\", \"O2_S8_WR_VOLTAGE\",\n",
    "    \"COMMANDED_EGR\", \"EGR_ERROR\", \"EVAPORATIVE_PURGE\", \"FUEL_LEVEL\",\n",
    "    \"WARMUPS_SINCE_DTC_CLEAR\", \"DISTANCE_SINCE_DTC_CLEAR\", \"EVAP_VAPOR_PRESSURE\",\n",
    "    \"BAROMETRIC_PRESSURE\", \"O2_S1_WR_CURRENT\", \"O2_S2_WR_CURRENT\", \"O2_S3_WR_CURRENT\",\n",
    "    \"O2_S4_WR_CURRENT\", \"O2_S5_WR_CURRENT\", \"O2_S6_WR_CURRENT\", \"O2_S7_WR_CURRENT\",\n",
    "    \"O2_S8_WR_CURRENT\", \"CATALYST_TEMP_B1S1\", \"CATALYST_TEMP_B2S1\",\n",
    "    \"CATALYST_TEMP_B1S2\", \"CATALYST_TEMP_B2S2\", \"PIDS_C\", \"STATUS_DRIVE_CYCLE\",\n",
    "    \"CONTROL_MODULE_VOLTAGE\", \"ABSOLUTE_LOAD\", \"COMMANDED_EQUIV_RATIO\",\n",
    "    \"RELATIVE_THROTTLE_POS\", \"AMBIANT_AIR_TEMP\", \"THROTTLE_POS_B\",\n",
    "    \"THROTTLE_POS_C\", \"ACCELERATOR_POS_D\", \"ACCELERATOR_POS_E\",\n",
    "    \"ACCELERATOR_POS_F\", \"THROTTLE_ACTUATOR\", \"RUN_TIME_MIL\",\n",
    "    \"TIME_SINCE_DTC_CLEARED\", \"unsupported\", \"MAX_MAF\", \"FUEL_TYPE\",\n",
    "    \"ETHANOL_PERCENT\", \"EVAP_VAPOR_PRESSURE_ABS\", \"EVAP_VAPOR_PRESSURE_ALT\",\n",
    "    \"SHORT_O2_TRIM_B1\", \"LONG_O2_TRIM_B1\", \"SHORT_O2_TRIM_B2\",\n",
    "    \"LONG_O2_TRIM_B2\", \"FUEL_RAIL_PRESSURE_ABS\", \"RELATIVE_ACCEL_POS\",\n",
    "    \"HYBRID_BATTERY_REMAINING\", \"OIL_TEMP\", \"FUEL_INJECT_TIMING\", \"FUEL_RATE\"\n",
    "]\n",
    "for cmd in name_cmd_intrested:\n",
    "    response = connection.query(obd.commands[cmd])\n",
    "    if response.is_null():\n",
    "        print(cmd, \"not supported\")\n",
    "    else:\n",
    "        print(cmd, response.value)\n",
    "        print(response.value.to(\"mph\"))\n",
    "# Chiudere la connessione\n",
    "connection.close()\n",
    "\n"
   ]
  },
  {
   "cell_type": "markdown",
   "metadata": {},
   "source": [
    "Step 2: Understand the Tools You Need\n",
    "OBD-II Adapter: This is the device you plug into your car's diagnostic port (usually under the dashboard). It connects to your computer or phone and allows you to access the car's data.\n",
    "Python: The programming language we’ll use to write the code that collects and processes the data.\n",
    "OBD-II Python Library: This is like a special tool that helps us talk to the OBD-II adapter from our Python program.\n",
    "CSV File: This is where we’ll save the data (a simple file that stores information in rows and columns, like a table)."
   ]
  }
 ],
 "metadata": {
  "kernelspec": {
   "display_name": ".venv",
   "language": "python",
   "name": "python3"
  },
  "language_info": {
   "codemirror_mode": {
    "name": "ipython",
    "version": 3
   },
   "file_extension": ".py",
   "mimetype": "text/x-python",
   "name": "python",
   "nbconvert_exporter": "python",
   "pygments_lexer": "ipython3",
   "version": "3.9.6"
  }
 },
 "nbformat": 4,
 "nbformat_minor": 2
}
